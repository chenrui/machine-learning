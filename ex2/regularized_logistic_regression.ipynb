{
 "cells": [
  {
   "cell_type": "markdown",
   "metadata": {
    "collapsed": true
   },
   "source": [
    "## 1. Plotting the Data"
   ]
  },
  {
   "cell_type": "code",
   "execution_count": 2,
   "metadata": {
    "collapsed": true
   },
   "outputs": [],
   "source": [
    "%matplotlib inline\n",
    "import pandas as pd\n",
    "import seaborn as sns\n",
    "import numpy as np\n",
    "import matplotlib.pyplot as plt\n",
    "\n",
    "sns.set(context=\"notebook\", style=\"whitegrid\", palette=\"dark\")"
   ]
  },
  {
   "cell_type": "code",
   "execution_count": 3,
   "metadata": {},
   "outputs": [
    {
     "data": {
      "text/html": [
       "<div>\n",
       "<style>\n",
       "    .dataframe thead tr:only-child th {\n",
       "        text-align: right;\n",
       "    }\n",
       "\n",
       "    .dataframe thead th {\n",
       "        text-align: left;\n",
       "    }\n",
       "\n",
       "    .dataframe tbody tr th {\n",
       "        vertical-align: top;\n",
       "    }\n",
       "</style>\n",
       "<table border=\"1\" class=\"dataframe\">\n",
       "  <thead>\n",
       "    <tr style=\"text-align: right;\">\n",
       "      <th></th>\n",
       "      <th>test1</th>\n",
       "      <th>test2</th>\n",
       "      <th>result</th>\n",
       "    </tr>\n",
       "  </thead>\n",
       "  <tbody>\n",
       "    <tr>\n",
       "      <th>0</th>\n",
       "      <td>0.051267</td>\n",
       "      <td>0.69956</td>\n",
       "      <td>1</td>\n",
       "    </tr>\n",
       "    <tr>\n",
       "      <th>1</th>\n",
       "      <td>-0.092742</td>\n",
       "      <td>0.68494</td>\n",
       "      <td>1</td>\n",
       "    </tr>\n",
       "    <tr>\n",
       "      <th>2</th>\n",
       "      <td>-0.213710</td>\n",
       "      <td>0.69225</td>\n",
       "      <td>1</td>\n",
       "    </tr>\n",
       "    <tr>\n",
       "      <th>3</th>\n",
       "      <td>-0.375000</td>\n",
       "      <td>0.50219</td>\n",
       "      <td>1</td>\n",
       "    </tr>\n",
       "    <tr>\n",
       "      <th>4</th>\n",
       "      <td>-0.513250</td>\n",
       "      <td>0.46564</td>\n",
       "      <td>1</td>\n",
       "    </tr>\n",
       "  </tbody>\n",
       "</table>\n",
       "</div>"
      ],
      "text/plain": [
       "      test1    test2  result\n",
       "0  0.051267  0.69956       1\n",
       "1 -0.092742  0.68494       1\n",
       "2 -0.213710  0.69225       1\n",
       "3 -0.375000  0.50219       1\n",
       "4 -0.513250  0.46564       1"
      ]
     },
     "execution_count": 3,
     "metadata": {},
     "output_type": "execute_result"
    }
   ],
   "source": [
    "data = pd.read_csv('ex2data2.txt', names=['test1', 'test2', 'result'])\n",
    "data.head()"
   ]
  },
  {
   "cell_type": "code",
   "execution_count": 4,
   "metadata": {},
   "outputs": [
    {
     "data": {
      "image/png": "[encoded data removed]",
      "text/plain": [
       "<matplotlib.figure.Figure at 0x7f1736f7e050>"
      ]
     },
     "metadata": {},
     "output_type": "display_data"
    }
   ],
   "source": [
    "fig, ax = plt.subplots(figsize=(8, 6))\n",
    "\n",
    "tp1 = data.query('result == 0')\n",
    "tp1x1 = tp1.iloc[:, 0:1].as_matrix()\n",
    "tp1x2 = tp1.iloc[:, 1:2].as_matrix()\n",
    "st1 = ax.scatter(tp1x1, tp1x2, c='blue')\n",
    "\n",
    "tp2 = data.query('result == 1')\n",
    "tp2x1 = tp2.iloc[:, 0:1].as_matrix()\n",
    "tp2x2 = tp2.iloc[:, 1:2].as_matrix()\n",
    "st2 = ax.scatter(tp2x1, tp2x2, c='red')\n",
    "\n",
    "ax.legend((st1, st2), ('rejected', 'accepted'), loc=0, bbox_to_anchor=(1.25, 1))\n",
    "ax.set_xlabel('test1')\n",
    "ax.set_ylabel('test2')\n",
    "plt.show()"
   ]
  },
  {
   "cell_type": "markdown",
   "metadata": {},
   "source": [
    "## 2. Feature mapping\n",
    "\n",
    "对于非线性模型边界分割，必须在原始数据上做一些非线性变换。比如把X做平方项，X1 * X2等\n",
    "\n",
    "![avatar](img/3.png)"
   ]
  },
  {
   "cell_type": "code",
   "execution_count": 5,
   "metadata": {},
   "outputs": [
    {
     "name": "stdout",
     "output_type": "stream",
     "text": [
      "(118, 28)\n"
     ]
    },
    {
     "data": {
      "text/html": [
       "<div>\n",
       "<style>\n",
       "    .dataframe thead tr:only-child th {\n",
       "        text-align: right;\n",
       "    }\n",
       "\n",
       "    .dataframe thead th {\n",
       "        text-align: left;\n",
       "    }\n",
       "\n",
       "    .dataframe tbody tr th {\n",
       "        vertical-align: top;\n",
       "    }\n",
       "</style>\n",
       "<table border=\"1\" class=\"dataframe\">\n",
       "  <thead>\n",
       "    <tr style=\"text-align: right;\">\n",
       "      <th></th>\n",
       "      <th>f00</th>\n",
       "      <th>f01</th>\n",
       "      <th>f02</th>\n",
       "      <th>f03</th>\n",
       "      <th>f04</th>\n",
       "      <th>f05</th>\n",
       "      <th>f06</th>\n",
       "      <th>f10</th>\n",
       "      <th>f11</th>\n",
       "      <th>f12</th>\n",
       "      <th>...</th>\n",
       "      <th>f30</th>\n",
       "      <th>f31</th>\n",
       "      <th>f32</th>\n",
       "      <th>f33</th>\n",
       "      <th>f40</th>\n",
       "      <th>f41</th>\n",
       "      <th>f42</th>\n",
       "      <th>f50</th>\n",
       "      <th>f51</th>\n",
       "      <th>f60</th>\n",
       "    </tr>\n",
       "  </thead>\n",
       "  <tbody>\n",
       "    <tr>\n",
       "      <th>0</th>\n",
       "      <td>1.0</td>\n",
       "      <td>0.69956</td>\n",
       "      <td>0.489384</td>\n",
       "      <td>0.342354</td>\n",
       "      <td>0.239497</td>\n",
       "      <td>0.167542</td>\n",
       "      <td>0.117206</td>\n",
       "      <td>0.051267</td>\n",
       "      <td>0.035864</td>\n",
       "      <td>0.025089</td>\n",
       "      <td>...</td>\n",
       "      <td>0.000135</td>\n",
       "      <td>0.000094</td>\n",
       "      <td>0.000066</td>\n",
       "      <td>0.000046</td>\n",
       "      <td>0.000007</td>\n",
       "      <td>0.000005</td>\n",
       "      <td>0.000003</td>\n",
       "      <td>3.541519e-07</td>\n",
       "      <td>2.477505e-07</td>\n",
       "      <td>1.815630e-08</td>\n",
       "    </tr>\n",
       "    <tr>\n",
       "      <th>1</th>\n",
       "      <td>1.0</td>\n",
       "      <td>0.68494</td>\n",
       "      <td>0.469143</td>\n",
       "      <td>0.321335</td>\n",
       "      <td>0.220095</td>\n",
       "      <td>0.150752</td>\n",
       "      <td>0.103256</td>\n",
       "      <td>-0.092742</td>\n",
       "      <td>-0.063523</td>\n",
       "      <td>-0.043509</td>\n",
       "      <td>...</td>\n",
       "      <td>-0.000798</td>\n",
       "      <td>-0.000546</td>\n",
       "      <td>-0.000374</td>\n",
       "      <td>-0.000256</td>\n",
       "      <td>0.000074</td>\n",
       "      <td>0.000051</td>\n",
       "      <td>0.000035</td>\n",
       "      <td>-6.860919e-06</td>\n",
       "      <td>-4.699318e-06</td>\n",
       "      <td>6.362953e-07</td>\n",
       "    </tr>\n",
       "    <tr>\n",
       "      <th>2</th>\n",
       "      <td>1.0</td>\n",
       "      <td>0.69225</td>\n",
       "      <td>0.479210</td>\n",
       "      <td>0.331733</td>\n",
       "      <td>0.229642</td>\n",
       "      <td>0.158970</td>\n",
       "      <td>0.110047</td>\n",
       "      <td>-0.213710</td>\n",
       "      <td>-0.147941</td>\n",
       "      <td>-0.102412</td>\n",
       "      <td>...</td>\n",
       "      <td>-0.009761</td>\n",
       "      <td>-0.006757</td>\n",
       "      <td>-0.004677</td>\n",
       "      <td>-0.003238</td>\n",
       "      <td>0.002086</td>\n",
       "      <td>0.001444</td>\n",
       "      <td>0.001000</td>\n",
       "      <td>-4.457837e-04</td>\n",
       "      <td>-3.085938e-04</td>\n",
       "      <td>9.526844e-05</td>\n",
       "    </tr>\n",
       "    <tr>\n",
       "      <th>3</th>\n",
       "      <td>1.0</td>\n",
       "      <td>0.50219</td>\n",
       "      <td>0.252195</td>\n",
       "      <td>0.126650</td>\n",
       "      <td>0.063602</td>\n",
       "      <td>0.031940</td>\n",
       "      <td>0.016040</td>\n",
       "      <td>-0.375000</td>\n",
       "      <td>-0.188321</td>\n",
       "      <td>-0.094573</td>\n",
       "      <td>...</td>\n",
       "      <td>-0.052734</td>\n",
       "      <td>-0.026483</td>\n",
       "      <td>-0.013299</td>\n",
       "      <td>-0.006679</td>\n",
       "      <td>0.019775</td>\n",
       "      <td>0.009931</td>\n",
       "      <td>0.004987</td>\n",
       "      <td>-7.415771e-03</td>\n",
       "      <td>-3.724126e-03</td>\n",
       "      <td>2.780914e-03</td>\n",
       "    </tr>\n",
       "    <tr>\n",
       "      <th>4</th>\n",
       "      <td>1.0</td>\n",
       "      <td>0.46564</td>\n",
       "      <td>0.216821</td>\n",
       "      <td>0.100960</td>\n",
       "      <td>0.047011</td>\n",
       "      <td>0.021890</td>\n",
       "      <td>0.010193</td>\n",
       "      <td>-0.513250</td>\n",
       "      <td>-0.238990</td>\n",
       "      <td>-0.111283</td>\n",
       "      <td>...</td>\n",
       "      <td>-0.135203</td>\n",
       "      <td>-0.062956</td>\n",
       "      <td>-0.029315</td>\n",
       "      <td>-0.013650</td>\n",
       "      <td>0.069393</td>\n",
       "      <td>0.032312</td>\n",
       "      <td>0.015046</td>\n",
       "      <td>-3.561597e-02</td>\n",
       "      <td>-1.658422e-02</td>\n",
       "      <td>1.827990e-02</td>\n",
       "    </tr>\n",
       "  </tbody>\n",
       "</table>\n",
       "<p>5 rows × 28 columns</p>\n",
       "</div>"
      ],
      "text/plain": [
       "   f00      f01       f02       f03       f04       f05       f06       f10  \\\n",
       "0  1.0  0.69956  0.489384  0.342354  0.239497  0.167542  0.117206  0.051267   \n",
       "1  1.0  0.68494  0.469143  0.321335  0.220095  0.150752  0.103256 -0.092742   \n",
       "2  1.0  0.69225  0.479210  0.331733  0.229642  0.158970  0.110047 -0.213710   \n",
       "3  1.0  0.50219  0.252195  0.126650  0.063602  0.031940  0.016040 -0.375000   \n",
       "4  1.0  0.46564  0.216821  0.100960  0.047011  0.021890  0.010193 -0.513250   \n",
       "\n",
       "        f11       f12      ...            f30       f31       f32       f33  \\\n",
       "0  0.035864  0.025089      ...       0.000135  0.000094  0.000066  0.000046   \n",
       "1 -0.063523 -0.043509      ...      -0.000798 -0.000546 -0.000374 -0.000256   \n",
       "2 -0.147941 -0.102412      ...      -0.009761 -0.006757 -0.004677 -0.003238   \n",
       "3 -0.188321 -0.094573      ...      -0.052734 -0.026483 -0.013299 -0.006679   \n",
       "4 -0.238990 -0.111283      ...      -0.135203 -0.062956 -0.029315 -0.013650   \n",
       "\n",
       "        f40       f41       f42           f50           f51           f60  \n",
       "0  0.000007  0.000005  0.000003  3.541519e-07  2.477505e-07  1.815630e-08  \n",
       "1  0.000074  0.000051  0.000035 -6.860919e-06 -4.699318e-06  6.362953e-07  \n",
       "2  0.002086  0.001444  0.001000 -4.457837e-04 -3.085938e-04  9.526844e-05  \n",
       "3  0.019775  0.009931  0.004987 -7.415771e-03 -3.724126e-03  2.780914e-03  \n",
       "4  0.069393  0.032312  0.015046 -3.561597e-02 -1.658422e-02  1.827990e-02  \n",
       "\n",
       "[5 rows x 28 columns]"
      ]
     },
     "execution_count": 5,
     "metadata": {},
     "output_type": "execute_result"
    }
   ],
   "source": [
    "def feature_mapping(x, y, power):\n",
    "    data = {}\n",
    "    # # inclusive\n",
    "    for i in np.arange(power + 1):\n",
    "        for p in np.arange(i + 1):\n",
    "            data[\"f{}{}\".format(i - p, p)] = np.power(x, i - p) * np.power(y, p)\n",
    "    return pd.DataFrame(data)\n",
    "\n",
    "\n",
    "x1 = np.array(data.test1)\n",
    "x2 = np.array(data.test2)\n",
    "dt = feature_mapping(x1, x2, 6)\n",
    "print dt.shape\n",
    "dt.head()"
   ]
  },
  {
   "cell_type": "markdown",
   "metadata": {},
   "source": [
    "## 3. Regularized cost\n",
    "\n",
    "![avatar](img/4.png)"
   ]
  },
  {
   "cell_type": "code",
   "execution_count": 6,
   "metadata": {
    "collapsed": true
   },
   "outputs": [],
   "source": [
    "def sigmoid(theta, X):\n",
    "    \"\"\"\n",
    "    @param X: 样本集; m*n的矩阵，m为样本个数，n为样本特征个数，其中x0 = 1\n",
    "    @param theta: 带求解的最佳θ; n维向量\n",
    "    \"\"\"\n",
    "    z = np.dot(X, theta)\n",
    "    return 1 / (1 + np.exp(-z))\n",
    "\n",
    "\n",
    "# 代价函数\n",
    "def cost(theta, X, Y):\n",
    "    \"\"\"\n",
    "    @param X: 样本集; m*n的矩阵，m为样本个数，n为样本特征个数，其中x0 = 1\n",
    "    @param Y: 样本结果;m维向量\n",
    "    @param theta: 带求解的最佳θ; n维向量\n",
    "    \"\"\"\n",
    "    m, n = X.shape\n",
    "    return -(np.dot(Y, np.log(sigmoid(theta, X))) + np.dot((1 - Y), np.log(1 - sigmoid(theta, X))))/ m\n",
    "\n",
    "\n",
    "def regularizedCost(theta, X, Y, lmd=1):\n",
    "    inner_theta = theta[1:]\n",
    "    m, n = X.shape\n",
    "    return cost(theta, X, Y) + np.power(inner_theta, 2).sum() * (lmd / 2 * m)"
   ]
  },
  {
   "cell_type": "markdown",
   "metadata": {},
   "source": [
    "## 4. Regularized gradient\n",
    "\n",
    "![avatar](img/5.png)"
   ]
  },
  {
   "cell_type": "code",
   "execution_count": 20,
   "metadata": {},
   "outputs": [],
   "source": [
    "# 梯度函数\n",
    "def gradient(theta, X, Y):\n",
    "    m, n = np.shape(X)\n",
    "    # m维向量\n",
    "    inner = sigmoid(theta, X) - Y\n",
    "    # n维向量\n",
    "    return np.dot(X.T, inner) / m\n",
    "\n",
    "\n",
    "def regularizedGradient(theta, X, Y, lmd=1):\n",
    "    m, n = X.shape\n",
    "    regularized_theta = (lmd / m) * theta[1:]\n",
    "    regularized_theta = np.concatenate([np.zeros(1), regularized_theta])\n",
    "    return gradient(theta, X, Y) + regularized_theta"
   ]
  },
  {
   "cell_type": "code",
   "execution_count": 30,
   "metadata": {},
   "outputs": [
    {
     "name": "stdout",
     "output_type": "stream",
     "text": [
      "     fun: 0.2629784673149784\n",
      "     jac: array([  2.52643470e-04,   4.74623924e-04,   5.95541255e-04,\n",
      "         3.39440132e-04,   4.25272902e-04,   3.41879430e-04,\n",
      "         3.97485313e-04,   8.04087329e-05,   3.58373171e-04,\n",
      "         8.22543668e-05,   3.35743914e-05,  -3.56904764e-05,\n",
      "        -4.36141695e-05,   6.30617221e-04,   2.47979626e-04,\n",
      "         2.17914480e-04,   8.46624162e-05,   7.64010215e-05,\n",
      "         2.34681148e-04,   1.70807109e-04,   9.40534668e-05,\n",
      "         4.16997948e-05,   3.62262925e-04,   1.38997247e-04,\n",
      "         1.07311425e-04,   1.48251293e-04,   9.00930801e-05,\n",
      "         2.02995696e-04])\n",
      " message: \"Warning: CG iterations didn't converge.  The Hessian is not positive definite.\"\n",
      "    nfev: 13\n",
      "    nhev: 0\n",
      "     nit: 12\n",
      "    njev: 2503\n",
      "  status: 3\n",
      " success: False\n",
      "       x: array([   6.43857276,    3.59761025,  -16.28045281,    4.50706652,\n",
      "          7.58128546,    4.43789411,  -17.16777722,    3.83373862,\n",
      "        -24.55695501,   19.19107849,   53.07321008,  -26.96347031,\n",
      "        -84.32523493,  -57.06037223,   -5.99812617,  170.45686998,\n",
      "        -13.75768691, -211.01423449,  -35.58614423,  117.67210555,\n",
      "         34.99445307,  -96.43290309,  199.43377454,   53.65087338,\n",
      "       -267.8385535 ,   75.45470761, -205.46714337, -239.16175367])\n"
     ]
    }
   ],
   "source": [
    "import scipy.optimize as opt\n",
    "\n",
    "\n",
    "# X feature mapping\n",
    "X = feature_mapping(x1, x2, 6).as_matrix()\n",
    "# 获取Y\n",
    "Y = np.array(data.iloc[:, -1])\n",
    "# 初始化theta\n",
    "theta = np.zeros(X.shape[1])\n",
    "lmd = 1\n",
    "\n",
    "ret = opt.minimize(fun=regularizedCost, \n",
    "                   x0=theta, args=(X, Y, lmd), \n",
    "                   method='Newton-CG',\n",
    "                   jac=regularizedGradient)\n",
    "print ret\n",
    "final_theta = ret.x"
   ]
  },
  {
   "cell_type": "markdown",
   "metadata": {},
   "source": [
    "## 5. Decision boundary"
   ]
  },
  {
   "cell_type": "code",
   "execution_count": 11,
   "metadata": {},
   "outputs": [
    {
     "name": "stdout",
     "output_type": "stream",
     "text": [
      "(412, 28)\n"
     ]
    },
    {
     "data": {
      "image/png": "[encoded data removed]",
      "text/plain": [
       "<matplotlib.figure.Figure at 0x7f1754068d90>"
      ]
     },
     "metadata": {},
     "output_type": "display_data"
    }
   ],
   "source": [
    "t1 = np.linspace(-1, 1, 1000)\n",
    "t2 = np.linspace(-1, 1, 1000)\n",
    "\n",
    "#-1 -- 1之间的所有点\n",
    "cordinates = [(x, y) for x in t1 for y in t2]\n",
    "x, y = zip(*cordinates)\n",
    "dt = feature_mapping(x, y, 6)\n",
    "X = dt.as_matrix()\n",
    "predict = np.dot(X, final_theta)\n",
    "# 过滤掉预测结果小于0.005的点，值越小越精确\n",
    "decision = dt[np.abs(predict) < 0.005]\n",
    "print decision.shape\n",
    "\n",
    "\n",
    "fig, ax = plt.subplots(figsize=(8, 6))\n",
    "st1 = ax.scatter(tp1x1, tp1x2, c='blue')\n",
    "st2 = ax.scatter(tp2x1, tp2x2, c='red')\n",
    "st3 = ax.scatter(decision.f10, decision.f01, c='black')\n",
    "\n",
    "ax.legend((st1, st2), ('rejected', 'accepted'), loc=0, bbox_to_anchor=(1.25, 1))\n",
    "ax.set_xlabel('test1')\n",
    "ax.set_ylabel('test2')\n",
    "plt.show()"
   ]
  }
 ],
 "metadata": {
  "kernelspec": {
   "display_name": "Python 2",
   "language": "python",
   "name": "python2"
  },
  "language_info": {
   "codemirror_mode": {
    "name": "ipython",
    "version": 2
   },
   "file_extension": ".py",
   "mimetype": "text/x-python",
   "name": "python",
   "nbconvert_exporter": "python",
   "pygments_lexer": "ipython2",
   "version": "2.7.6"
  }
 },
 "nbformat": 4,
 "nbformat_minor": 2
}
