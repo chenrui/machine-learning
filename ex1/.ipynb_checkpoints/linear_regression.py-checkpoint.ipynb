{
 "cells": [
  {
   "cell_type": "markdown",
   "metadata": {},
   "source": [
    "## 1. Plotting the Data"
   ]
  },
  {
   "cell_type": "code",
   "execution_count": 19,
   "metadata": {
    "collapsed": true
   },
   "outputs": [],
   "source": [
    "import pandas as pd\n",
    "import seaborn as sns\n",
    "import numpy as np\n",
    "import matplotlib.pyplot as plt\n",
    "\n",
    "sns.set(context=\"notebook\", style=\"whitegrid\", palette=\"dark\")"
   ]
  },
  {
   "cell_type": "code",
   "execution_count": 20,
   "metadata": {},
   "outputs": [
    {
     "data": {
      "text/html": [
       "<div>\n",
       "<style>\n",
       "    .dataframe thead tr:only-child th {\n",
       "        text-align: right;\n",
       "    }\n",
       "\n",
       "    .dataframe thead th {\n",
       "        text-align: left;\n",
       "    }\n",
       "\n",
       "    .dataframe tbody tr th {\n",
       "        vertical-align: top;\n",
       "    }\n",
       "</style>\n",
       "<table border=\"1\" class=\"dataframe\">\n",
       "  <thead>\n",
       "    <tr style=\"text-align: right;\">\n",
       "      <th></th>\n",
       "      <th>population</th>\n",
       "      <th>profit</th>\n",
       "    </tr>\n",
       "  </thead>\n",
       "  <tbody>\n",
       "    <tr>\n",
       "      <th>0</th>\n",
       "      <td>6.1101</td>\n",
       "      <td>17.5920</td>\n",
       "    </tr>\n",
       "    <tr>\n",
       "      <th>1</th>\n",
       "      <td>5.5277</td>\n",
       "      <td>9.1302</td>\n",
       "    </tr>\n",
       "    <tr>\n",
       "      <th>2</th>\n",
       "      <td>8.5186</td>\n",
       "      <td>13.6620</td>\n",
       "    </tr>\n",
       "    <tr>\n",
       "      <th>3</th>\n",
       "      <td>7.0032</td>\n",
       "      <td>11.8540</td>\n",
       "    </tr>\n",
       "    <tr>\n",
       "      <th>4</th>\n",
       "      <td>5.8598</td>\n",
       "      <td>6.8233</td>\n",
       "    </tr>\n",
       "  </tbody>\n",
       "</table>\n",
       "</div>"
      ],
      "text/plain": [
       "   population   profit\n",
       "0      6.1101  17.5920\n",
       "1      5.5277   9.1302\n",
       "2      8.5186  13.6620\n",
       "3      7.0032  11.8540\n",
       "4      5.8598   6.8233"
      ]
     },
     "execution_count": 20,
     "metadata": {},
     "output_type": "execute_result"
    }
   ],
   "source": [
    "data = pd.read_csv('ex1data1.txt', names=['population', 'profit'])\n",
    "data.head()"
   ]
  },
  {
   "cell_type": "code",
   "execution_count": 21,
   "metadata": {},
   "outputs": [
    {
     "data": {
      "text/plain": [
       "<seaborn.axisgrid.FacetGrid at 0x7f33a5d4b650>"
      ]
     },
     "execution_count": 21,
     "metadata": {},
     "output_type": "execute_result"
    },
    {
     "data": {
      "image/png": "[encoded data removed]",
      "text/plain": [
       "<matplotlib.figure.Figure at 0x7f33d1b80c10>"
      ]
     },
     "metadata": {},
     "output_type": "display_data"
    }
   ],
   "source": [
    "# 输出样本文件分布图\n",
    "%matplotlib inline\n",
    "sns.lmplot('population', 'profit', data, size=6, fit_reg=False)"
   ]
  },
  {
   "cell_type": "markdown",
   "metadata": {},
   "source": [
    "## 2. Gradient Descent"
   ]
  },
  {
   "cell_type": "markdown",
   "metadata": {},
   "source": [
    "![avatar](img/1.png)"
   ]
  },
  {
   "cell_type": "code",
   "execution_count": 22,
   "metadata": {
    "collapsed": true
   },
   "outputs": [],
   "source": [
    "# 代价函数\n",
    "def cost(theta, X, Y):\n",
    "    \"\"\"\n",
    "    @param X: 样本集; m*n的矩阵，m为样本个数，n为样本特征个数，其中x0 = 1\n",
    "    @param Y: 样本结果;m*1的矩阵，\n",
    "    @param theta: 带求解的最佳θ; 1*n的矩阵\n",
    "    \"\"\"\n",
    "    m, n = np.shape(X)\n",
    "    # h(x^i) - y^i\n",
    "    inner = np.dot(X, theta.T) - Y\n",
    "    squareSum = np.dot(inner.T, inner)\n",
    "    return squareSum / (2 * m)\n",
    "    "
   ]
  },
  {
   "cell_type": "markdown",
   "metadata": {},
   "source": [
    "![avatar](img/2.png)"
   ]
  },
  {
   "cell_type": "code",
   "execution_count": 37,
   "metadata": {},
   "outputs": [],
   "source": [
    "# 梯度函数\n",
    "def gradient(theta, X, Y):\n",
    "    m, n = np.shape(X)\n",
    "    inner = np.dot(X, theta.T) - Y\n",
    "    # xj^1 * inner^1 + xj^2 * inner^2 + ... + xj^m * inner^m\n",
    "    val = np.dot(X.T, inner)  # val为n*1的矩阵\n",
    "    return val.T / m\n",
    "\n",
    "\n",
    "# 梯度下降\n",
    "def gradientDecent(theta, X, Y, alpha, times):\n",
    "    \"\"\"\n",
    "    @param alpha: 学习率\n",
    "    @param times: 重复次数\n",
    "    \"\"\"\n",
    "    for i in range(times):\n",
    "        theta = theta - alpha * gradient(theta, X, Y)\n",
    "        c = cost(theta, X, Y)\n",
    "        print \"%d: theta=%s, cost=%f\" %(i, theta, c.item())\n",
    "    return theta"
   ]
  },
  {
   "cell_type": "code",
   "execution_count": 46,
   "metadata": {},
   "outputs": [
    {
     "name": "stdout",
     "output_type": "stream",
     "text": [
      "0: theta=[[ 0.05839135  0.6532885 ]], cost=6.737190\n",
      "1: theta=[[ 0.06289175  0.77000978]], cost=5.931594\n",
      "2: theta=[[ 0.05782293  0.79134812]], cost=5.901155\n",
      "3: theta=[[ 0.05106363  0.79572981]], cost=5.895229\n",
      "4: theta=[[ 0.04401438  0.79709618]], cost=5.890095\n",
      "5: theta=[[ 0.03692413  0.79792547]], cost=5.885004\n",
      "6: theta=[[ 0.02983712  0.79865824]], cost=5.879932\n",
      "7: theta=[[ 0.02276118  0.79937279]], cost=5.874879\n",
      "8: theta=[[ 0.0156977   0.80008305]], cost=5.869844\n",
      "9: theta=[[ 0.0086469  0.8007915]], cost=5.864827\n",
      "10: theta=[[ 0.00160879  0.80149857]], cost=5.859828\n",
      "11: theta=[[-0.00541662  0.80220436]], cost=5.854847\n",
      "12: theta=[[-0.01242938  0.80290886]], cost=5.849884\n",
      "13: theta=[[-0.01942949  0.8036121 ]], cost=5.844939\n",
      "14: theta=[[-0.02641699  0.80431407]], cost=5.840011\n",
      "15: theta=[[-0.03339189  0.80501478]], cost=5.835102\n",
      "16: theta=[[-0.04035421  0.80571422]], cost=5.830210\n",
      "17: theta=[[-0.04730399  0.8064124 ]], cost=5.825336\n",
      "18: theta=[[-0.05424124  0.80710932]], cost=5.820479\n",
      "19: theta=[[-0.06116598  0.80780498]], cost=5.815640\n",
      "20: theta=[[-0.06807824  0.8084994 ]], cost=5.810818\n",
      "21: theta=[[-0.07497804  0.80919256]], cost=5.806013\n",
      "22: theta=[[-0.08186541  0.80988447]], cost=5.801226\n",
      "23: theta=[[-0.08874035  0.81057513]], cost=5.796456\n",
      "24: theta=[[-0.09560291  0.81126455]], cost=5.791704\n",
      "25: theta=[[-0.10245309  0.81195272]], cost=5.786968\n",
      "26: theta=[[-0.10929093  0.81263966]], cost=5.782250\n",
      "27: theta=[[-0.11611644  0.81332535]], cost=5.777548\n",
      "28: theta=[[-0.12292965  0.81400981]], cost=5.772863\n",
      "29: theta=[[-0.12973057  0.81469304]], cost=5.768196\n",
      "30: theta=[[-0.13651924  0.81537504]], cost=5.763545\n",
      "31: theta=[[-0.14329567  0.8160558 ]], cost=5.758911\n",
      "32: theta=[[-0.15005988  0.81673534]], cost=5.754293\n",
      "33: theta=[[-0.15681191  0.81741365]], cost=5.749692\n",
      "34: theta=[[-0.16355176  0.81809075]], cost=5.745108\n",
      "35: theta=[[-0.17027946  0.81876662]], cost=5.740540\n",
      "36: theta=[[-0.17699503  0.81944127]], cost=5.735989\n",
      "37: theta=[[-0.1836985  0.8201147]], cost=5.731454\n",
      "38: theta=[[-0.19038988  0.82078693]], cost=5.726935\n",
      "39: theta=[[-0.1970692   0.82145794]], cost=5.722433\n",
      "40: theta=[[-0.20373649  0.82212774]], cost=5.717947\n",
      "41: theta=[[-0.21039175  0.82279633]], cost=5.713477\n",
      "42: theta=[[-0.21703502  0.82346372]], cost=5.709023\n",
      "43: theta=[[-0.22366631  0.8241299 ]], cost=5.704586\n",
      "44: theta=[[-0.23028565  0.82479489]], cost=5.700164\n",
      "45: theta=[[-0.23689305  0.82545867]], cost=5.695758\n",
      "46: theta=[[-0.24348855  0.82612126]], cost=5.691368\n",
      "47: theta=[[-0.25007216  0.82678266]], cost=5.686994\n",
      "48: theta=[[-0.2566439   0.82744286]], cost=5.682635\n",
      "49: theta=[[-0.26320379  0.82810187]], cost=5.678293\n",
      "50: theta=[[-0.26975186  0.8287597 ]], cost=5.673965\n",
      "51: theta=[[-0.27628812  0.82941634]], cost=5.669654\n",
      "52: theta=[[-0.2828126   0.83007179]], cost=5.665358\n",
      "53: theta=[[-0.28932533  0.83072607]], cost=5.661078\n",
      "54: theta=[[-0.29582631  0.83137916]], cost=5.656812\n",
      "55: theta=[[-0.30231557  0.83203108]], cost=5.652563\n",
      "56: theta=[[-0.30879314  0.83268182]], cost=5.648328\n",
      "57: theta=[[-0.31525902  0.83333139]], cost=5.644109\n",
      "58: theta=[[-0.32171326  0.83397978]], cost=5.639905\n",
      "59: theta=[[-0.32815586  0.83462701]], cost=5.635716\n"
     ]
    },
    {
     "data": {
      "image/png": "[encoded data removed]",
      "text/plain": [
       "<matplotlib.figure.Figure at 0x7f33a40c2950>"
      ]
     },
     "metadata": {},
     "output_type": "display_data"
    }
   ],
   "source": [
    "def main():\n",
    "    # 获取X，并设置x0=1\n",
    "    ones = pd.DataFrame({'ones': np.ones(len(data))})\n",
    "    X = pd.concat([ones, data], axis=1).iloc[:, :-1].as_matrix()\n",
    "    # 获取Y\n",
    "    Y = data.iloc[:, -1:].as_matrix()\n",
    "    # 初始化theta\n",
    "    theta = np.zeros((1, X.shape[1]))\n",
    "    # 初始化alpha\n",
    "    alpha = 0.01\n",
    "    final_theta = gradientDecent(theta, X, Y, alpha, 60)[0]\n",
    "    \n",
    "    plt.scatter(data.population, data.profit, label=\"Training data\")\n",
    "    plt.plot(data.population, data.population*final_theta[1] + final_theta[0], label=\"Prediction\")\n",
    "    plt.legend(loc=2)\n",
    "\n",
    "    \n",
    "    \n",
    "main()"
   ]
  }
 ],
 "metadata": {
  "kernelspec": {
   "display_name": "Python 2",
   "language": "python",
   "name": "python2"
  },
  "language_info": {
   "codemirror_mode": {
    "name": "ipython",
    "version": 2
   },
   "file_extension": ".py",
   "mimetype": "text/x-python",
   "name": "python",
   "nbconvert_exporter": "python",
   "pygments_lexer": "ipython2",
   "version": "2.7.6"
  }
 },
 "nbformat": 4,
 "nbformat_minor": 2
}
